{
 "cells": [
  {
   "cell_type": "code",
   "execution_count": 5,
   "metadata": {},
   "outputs": [],
   "source": [
    "import csv\n",
    "with open('texts.csv', 'r') as f:\n",
    "    reader = csv.reader(f)\n",
    "    texts = list(reader)\n",
    "\n",
    "with open('calls.csv', 'r') as f:\n",
    "    reader = csv.reader(f)\n",
    "    calls = list(reader)\n"
   ]
  },
  {
   "cell_type": "code",
   "execution_count": 7,
   "metadata": {},
   "outputs": [
    {
     "data": {
      "text/plain": [
       "[['78298 91466', '(022)28952819', '01-09-2016 06:01:59', '2093'],\n",
       " ['97424 22395', '(022)47410783', '01-09-2016 06:03:51', '1975'],\n",
       " ['93427 40118', '(080)33118033', '01-09-2016 06:11:23', '1156'],\n",
       " ['90087 42537', '(080)35121497', '01-09-2016 06:17:26', '573'],\n",
       " ['97427 87999', '(04344)322628', '01-09-2016 06:19:28', '2751'],\n",
       " ['(080)45291968', '90365 06212', '01-09-2016 06:30:36', '9'],\n",
       " ['78132 18081', '77956 90632', '01-09-2016 06:39:03', '3043'],\n",
       " ['98453 46196', '94005 06213', '01-09-2016 06:40:20', '2457'],\n",
       " ['78290 99865', '89071 31755', '01-09-2016 06:46:56', '9']]"
      ]
     },
     "execution_count": 7,
     "metadata": {},
     "output_type": "execute_result"
    }
   ],
   "source": [
    "texts[1:10]\n",
    "calls[1:10]"
   ]
  },
  {
   "cell_type": "code",
   "execution_count": 11,
   "metadata": {},
   "outputs": [
    {
     "name": "stdout",
     "output_type": "stream",
     "text": [
      "There are 570 different telephone numbers in the records.\n"
     ]
    }
   ],
   "source": [
    "unique_tele_no = set()\n",
    "\n",
    "for text in texts:\n",
    "    unique_tele_no.add(text[0])\n",
    "    unique_tele_no.add(text[1])\n",
    "    \n",
    "for call in calls:\n",
    "    unique_tele_no.add(call[0])\n",
    "    unique_tele_no.add(call[1])\n",
    "    \n",
    "print('There are {count} different telephone numbers in the records.'.format(count = str(len(unique_tele_no))))"
   ]
  },
  {
   "cell_type": "code",
   "execution_count": 12,
   "metadata": {},
   "outputs": [
    {
     "name": "stdout",
     "output_type": "stream",
     "text": [
      "(080)33251027 spent the longest time, 90456 seconds, on the phone during September 2016.\n"
     ]
    }
   ],
   "source": [
    "di = {}\n",
    "\n",
    "for record in calls:\n",
    "    for num in record[:2]:\n",
    "        di[num] = di.get(num, 0) + int(record[3])\n",
    "        \n",
    "key_max = max(di.keys(), key=(lambda k: di[k]))\n",
    "\n",
    "print('{num} spent the longest time, {time} seconds, on the phone during September 2016.'.format(num = key_max, time = str(di[key_max])))"
   ]
  },
  {
   "cell_type": "code",
   "execution_count": 14,
   "metadata": {},
   "outputs": [
    {
     "name": "stdout",
     "output_type": "stream",
     "text": [
      "The numbers called by people in Bangalore have codes:\n",
      "(080)20123809\n",
      "(080)20227149\n",
      "(080)20383942\n",
      "(080)21129907\n",
      "(080)21652896\n",
      "(080)21697299\n",
      "(080)22759842\n",
      "(080)22816760\n",
      "(080)23802940\n",
      "(080)24444677\n",
      "(080)25820765\n",
      "(080)25863765\n",
      "(080)26097534\n",
      "(080)27498339\n",
      "(080)29435303\n",
      "(080)29483476\n",
      "(080)30231886\n",
      "(080)30270642\n",
      "(080)31606520\n",
      "(080)31863188\n",
      "(080)31982490\n",
      "(080)32255824\n",
      "(080)32390650\n",
      "(080)32638303\n",
      "(080)32647101\n",
      "(080)32679828\n",
      "(080)32828889\n",
      "(080)33118033\n",
      "(080)33251027\n",
      "(080)33277651\n",
      "(080)34121098\n",
      "(080)34932254\n",
      "(080)35121497\n",
      "(080)35538852\n",
      "(080)35986130\n",
      "(080)35987804\n",
      "(080)37913009\n",
      "(080)39755879\n",
      "(080)39991213\n",
      "(080)40362016\n",
      "(080)40395498\n",
      "(080)40929452\n",
      "(080)41095396\n",
      "(080)41203315\n",
      "(080)41336994\n",
      "(080)41712046\n",
      "(080)43206415\n",
      "(080)43215621\n",
      "(080)43562014\n",
      "(080)43685310\n",
      "(080)43901222\n",
      "(080)44046839\n",
      "(080)44050207\n",
      "(080)44076727\n",
      "(080)44357306\n",
      "(080)44389098\n",
      "(080)45291968\n",
      "(080)45547058\n",
      "(080)45687418\n",
      "(080)46221576\n",
      "(080)46304537\n",
      "(080)46566171\n",
      "(080)46702492\n",
      "(080)46772413\n",
      "(080)47459867\n",
      "(080)47999451\n",
      "(080)48462898\n",
      "(080)49328664\n",
      "(080)49796269\n",
      "(080)60062475\n",
      "(080)60068611\n",
      "(080)60463379\n",
      "(080)60998034\n",
      "(080)61123756\n",
      "(080)61419142\n",
      "(080)62164823\n",
      "(080)62342282\n",
      "(080)62963633\n",
      "(080)63623429\n",
      "(080)64015211\n",
      "(080)64047472\n",
      "(080)64431120\n",
      "(080)64765396\n",
      "(080)64819785\n",
      "(080)65023950\n",
      "(080)65275591\n",
      "(080)66044294\n",
      "(080)66857551\n",
      "(080)66955387\n",
      "(080)67362492\n",
      "(080)67426410\n",
      "(080)68104927\n",
      "(080)68739140\n",
      "(080)69104549\n",
      "(080)69150162\n",
      "(080)69245029\n",
      "(080)69564399\n",
      "(080)69609453\n",
      "(080)69887826\n",
      "24.81 percent of calls from fixed lines in Bangalore are calls to other fixed lines in Bangalore.\n"
     ]
    }
   ],
   "source": [
    "#PART A\n",
    "\n",
    "new = []\n",
    "for call in calls:\n",
    "    if '(080)' in call[0]:\n",
    "        num = int(call[0].replace('(080)', ''))\n",
    "        if num not in new:\n",
    "            new.append(num)\n",
    "               \n",
    "new.sort()\n",
    "\n",
    "print('The numbers called by people in Bangalore have codes:')\n",
    "for num in new:\n",
    "    print('(080)' + str(num))\n",
    "\n",
    "    \n",
    "#PART B\n",
    "\n",
    "total_count = 0\n",
    "count = 0\n",
    "for call in calls:\n",
    "    if '(080)' in call[0]:\n",
    "        total_count += 1\n",
    "    if '(080)' in call[0] and '(080)' in call[1]:\n",
    "        count += 1\n",
    "percentage = count / total_count * 100\n",
    "print(\"{:.2f} percent of calls from fixed lines in Bangalore are calls to other fixed lines in Bangalore.\".format(percentage))"
   ]
  },
  {
   "cell_type": "code",
   "execution_count": 15,
   "metadata": {},
   "outputs": [
    {
     "data": {
      "text/plain": [
       "[['78298 91466', '(022)28952819', '01-09-2016 06:01:59', '2093'],\n",
       " ['97424 22395', '(022)47410783', '01-09-2016 06:03:51', '1975'],\n",
       " ['93427 40118', '(080)33118033', '01-09-2016 06:11:23', '1156'],\n",
       " ['90087 42537', '(080)35121497', '01-09-2016 06:17:26', '573'],\n",
       " ['97427 87999', '(04344)322628', '01-09-2016 06:19:28', '2751'],\n",
       " ['(080)45291968', '90365 06212', '01-09-2016 06:30:36', '9'],\n",
       " ['78132 18081', '77956 90632', '01-09-2016 06:39:03', '3043'],\n",
       " ['98453 46196', '94005 06213', '01-09-2016 06:40:20', '2457'],\n",
       " ['78290 99865', '89071 31755', '01-09-2016 06:46:56', '9']]"
      ]
     },
     "execution_count": 15,
     "metadata": {},
     "output_type": "execute_result"
    }
   ],
   "source": [
    "calls[1:10]"
   ]
  },
  {
   "cell_type": "code",
   "execution_count": 21,
   "metadata": {},
   "outputs": [
    {
     "name": "stdout",
     "output_type": "stream",
     "text": [
      "The numbers called by people in Bangalore have codes:\n",
      "(022)\n",
      "(040)\n",
      "(04344)\n",
      "(044)\n",
      "(04546)\n",
      "(0471)\n",
      "(080)\n",
      "(0821)\n",
      "7406\n",
      "7795\n",
      "7813\n",
      "7829\n",
      "8151\n",
      "8152\n",
      "8301\n",
      "8431\n",
      "8714\n",
      "9008\n",
      "9019\n",
      "9035\n",
      "9036\n",
      "9241\n",
      "9242\n",
      "9341\n",
      "9342\n",
      "9343\n",
      "9400\n",
      "9448\n",
      "9449\n",
      "9526\n",
      "9656\n",
      "9738\n",
      "9740\n",
      "9741\n",
      "9742\n",
      "9844\n",
      "9845\n",
      "9900\n",
      "9961\n"
     ]
    }
   ],
   "source": [
    "area_codes = set()\n",
    "\n",
    "for call in calls:\n",
    "    if call[0].startswith('(080)'):\n",
    "        if call[1].startswith('(0'):\n",
    "            code = call[1][0:call[1].find(')') + 1]\n",
    "            area_codes.add(code)\n",
    "        elif call[1].startswith(('7', '8', '9')):\n",
    "            code = call[1][0:4]\n",
    "            area_codes.add(code)\n",
    "        elif call[1].startswith('140'):\n",
    "            code = '140'\n",
    "            area_codes.add(code)\n",
    "\n",
    "\n",
    "area_codes_list = list(area_codes)\n",
    "area_codes_list.sort()\n",
    "print(\"The numbers called by people in Bangalore have codes:\")\n",
    "for code in area_codes_list:\n",
    "    print(code)"
   ]
  },
  {
   "cell_type": "code",
   "execution_count": 23,
   "metadata": {},
   "outputs": [
    {
     "name": "stdout",
     "output_type": "stream",
     "text": [
      "These numbers could be telemarketers: \n",
      "(022)37572285\n",
      "(022)65548497\n",
      "(022)68535788\n",
      "(022)69042431\n",
      "(040)30429041\n",
      "(044)22020822\n",
      "(0471)2171438\n",
      "(0471)6579079\n",
      "(080)20383942\n",
      "(080)25820765\n",
      "(080)31606520\n",
      "(080)40362016\n",
      "(080)60463379\n",
      "(080)60998034\n",
      "(080)62963633\n",
      "(080)64015211\n",
      "(080)69887826\n",
      "(0821)3257740\n",
      "1400481538\n",
      "1401747654\n",
      "1402316533\n",
      "1403072432\n",
      "1403579926\n",
      "1404073047\n",
      "1404368883\n",
      "1404787681\n",
      "1407539117\n",
      "1408371942\n",
      "1408409918\n",
      "1408672243\n",
      "1409421631\n",
      "1409668775\n",
      "1409994233\n",
      "74064 66270\n",
      "78291 94593\n",
      "87144 55014\n",
      "90351 90193\n",
      "92414 69419\n",
      "94495 03761\n",
      "97404 30456\n",
      "97407 84573\n",
      "97442 45192\n",
      "99617 25274\n"
     ]
    }
   ],
   "source": [
    "outgoing = set()\n",
    "non_tele = set()\n",
    "\n",
    "for call in calls:\n",
    "    outgoing.add(call[0])\n",
    "    non_tele.add(call[1])\n",
    "    \n",
    "for text in texts:\n",
    "    non_tele.add(text[0])\n",
    "    non_tele.add(text[1])\n",
    "    \n",
    "tele = outgoing - non_tele\n",
    "tele_list = list(tele)\n",
    "tele_list.sort()\n",
    "\n",
    "print('These numbers could be telemarketers: ')\n",
    "for num in tele_list:\n",
    "    print(num)"
   ]
  },
  {
   "cell_type": "code",
   "execution_count": null,
   "metadata": {},
   "outputs": [],
   "source": []
  }
 ],
 "metadata": {
  "kernelspec": {
   "display_name": "Python 3",
   "language": "python",
   "name": "python3"
  },
  "language_info": {
   "codemirror_mode": {
    "name": "ipython",
    "version": 3
   },
   "file_extension": ".py",
   "mimetype": "text/x-python",
   "name": "python",
   "nbconvert_exporter": "python",
   "pygments_lexer": "ipython3",
   "version": "3.8.3"
  }
 },
 "nbformat": 4,
 "nbformat_minor": 4
}
